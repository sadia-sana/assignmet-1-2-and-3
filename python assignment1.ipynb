{
 "cells": [
  {
   "cell_type": "code",
   "execution_count": 1,
   "metadata": {},
   "outputs": [
    {
     "name": "stdout",
     "output_type": "stream",
     "text": [
      "Twinkle, twinkle, little star,\n",
      "    How I wonder what you are!\n",
      "                Up above the world so high,\n",
      "                Like a diamond in the sky.\n",
      "Twinkle, twinkle, little star,\n",
      "    How I wonder what you are!\n"
     ]
    }
   ],
   "source": [
    "#Question No.1\n",
    "line1 = \"Twinkle, twinkle, little star,\"\n",
    "line2 = \"    How I wonder what you are!\"\n",
    "line3 = \"                Up above the world so high,\"\n",
    "line4 = \"                Like a diamond in the sky.\"\n",
    "print (line1)\n",
    "print (line2)\n",
    "print (line3)\n",
    "print (line4)\n",
    "print (line1)\n",
    "print (line2)"
   ]
  },
  {
   "cell_type": "code",
   "execution_count": 2,
   "metadata": {},
   "outputs": [
    {
     "name": "stdout",
     "output_type": "stream",
     "text": [
      "3.7.4 (default, Aug  9 2019, 18:34:13) [MSC v.1915 64 bit (AMD64)]\n"
     ]
    }
   ],
   "source": [
    "#Question No.2\n",
    "import sys\n",
    "print (sys.version)"
   ]
  },
  {
   "cell_type": "code",
   "execution_count": 3,
   "metadata": {},
   "outputs": [
    {
     "name": "stdout",
     "output_type": "stream",
     "text": [
      "Current Date: 2019-11-05\n",
      "Current Time: 19:08:11\n"
     ]
    }
   ],
   "source": [
    "#Question No.3\n",
    "import datetime\n",
    "now = datetime.datetime.now()\n",
    "print (now.strftime(\"Current Date: %Y-%m-%d\"))\n",
    "print (now.strftime(\"Current Time: %H:%M:%S\"))"
   ]
  },
  {
   "cell_type": "code",
   "execution_count": 4,
   "metadata": {},
   "outputs": [
    {
     "name": "stdout",
     "output_type": "stream",
     "text": [
      "Enter radius of the circle: 12\n",
      "The area of circle is 452.304\n"
     ]
    }
   ],
   "source": [
    "#Question No.4\n",
    "pi = 3.141\n",
    "radius = float(input(\"Enter radius of the circle: \"))\n",
    "area = pi * radius**2\n",
    "print (\"The area of circle is\", area)"
   ]
  },
  {
   "cell_type": "code",
   "execution_count": 5,
   "metadata": {},
   "outputs": [
    {
     "name": "stdout",
     "output_type": "stream",
     "text": [
      "Your First Name is: sadia\n",
      "Your Last Name is: sana\n",
      "Your name in reverse order is 'sana sadia'\n"
     ]
    }
   ],
   "source": [
    "#Question No.5\n",
    "first_name = input(\"Your First Name is: \")\n",
    "last_name = input(\"Your Last Name is: \")\n",
    "print (\"Your name in reverse order is \" + \"'\" + last_name + \" \" + first_name + \"'\")"
   ]
  },
  {
   "cell_type": "code",
   "execution_count": 7,
   "metadata": {},
   "outputs": [
    {
     "name": "stdout",
     "output_type": "stream",
     "text": [
      "Your first number: 3\n",
      "Your second number: 4\n"
     ]
    },
    {
     "data": {
      "text/plain": [
       "7"
      ]
     },
     "execution_count": 7,
     "metadata": {},
     "output_type": "execute_result"
    }
   ],
   "source": [
    "#Question No.6\n",
    "num_1 = int(input(\"Your first number: \"))\n",
    "num_2 = int(input(\"Your second number: \"))\n",
    "result = num_1 + num_2\n",
    "result"
   ]
  },
  {
   "cell_type": "code",
   "execution_count": 1,
   "metadata": {},
   "outputs": [
    {
     "name": "stdout",
     "output_type": "stream",
     "text": [
      "Enter marks of the first subject: 76\n",
      "Enter marks of the second subject: 98\n",
      "Enter marks of the third subject: 90\n",
      "Enter marks of the fourth subject: 99\n",
      "Enter marks of the fifth subject: 80\n",
      "Grade: A+\n"
     ]
    }
   ],
   "source": [
    "# ASSIGNMENT @@   2  @@\n",
    "\n",
    "# Question 1\n",
    "\n",
    "sub1=int(input(\"Enter marks of the first subject: \"))\n",
    "sub2=int(input(\"Enter marks of the second subject: \"))\n",
    "sub3=int(input(\"Enter marks of the third subject: \"))\n",
    "sub4=int(input(\"Enter marks of the fourth subject: \"))\n",
    "sub5=int(input(\"Enter marks of the fifth subject: \"))\n",
    "total = (sub1+sub2+sub3+sub4+sub5)/5;\n",
    "if(total>=80 and total <=100):\n",
    "    print(\"Grade: A+\")\n",
    "elif(total>=70 and total<80):\n",
    "    print(\"Grade: A\")\n",
    "elif(total>=60 and total<70):\n",
    "    print(\"Grade: B\")\n",
    "elif(total>=50 and total<60):\n",
    "    print(\"Grade: C\")\n",
    "elif(total>=40 and total<50):\n",
    "    print(\"Grade: D\")\n",
    "elif(total>=33):\n",
    "    print(\"Grade: E\")\n",
    "else:\n",
    "    print(\"Grade: F\")"
   ]
  },
  {
   "cell_type": "code",
   "execution_count": 4,
   "metadata": {},
   "outputs": [
    {
     "name": "stdout",
     "output_type": "stream",
     "text": [
      "Enter a number: 5\n",
      "5 is Odd\n"
     ]
    }
   ],
   "source": [
    "# Question 2\n",
    "\n",
    "num = int(input(\"Enter a number: \"))\n",
    "if (num % 2) == 0:\n",
    "   print(\"{0} is Even\".format(num))\n",
    "else:\n",
    "   print(\"{0} is Odd\".format(num))"
   ]
  },
  {
   "cell_type": "code",
   "execution_count": 3,
   "metadata": {},
   "outputs": [
    {
     "name": "stdout",
     "output_type": "stream",
     "text": [
      "9\n"
     ]
    }
   ],
   "source": [
    "# Question 3\n",
    "\n",
    "L=[1,2,3,4,5,4,6,8,0]\n",
    "length_of_list = len(L)\n",
    "print(length_of_list)"
   ]
  },
  {
   "cell_type": "code",
   "execution_count": 5,
   "metadata": {},
   "outputs": [
    {
     "name": "stdout",
     "output_type": "stream",
     "text": [
      "Sum of all elements in given list:  74\n"
     ]
    }
   ],
   "source": [
    "# Question 4\n",
    "total = 0\n",
    "  \n",
    "list1 = [11, 5, 17, 18, 23]  \n",
    "  \n",
    "for element in range(0, len(list1)): \n",
    "    total = total + list1[element] \n",
    "  \n",
    "print(\"Sum of all elements in given list: \", total) "
   ]
  },
  {
   "cell_type": "code",
   "execution_count": 6,
   "metadata": {},
   "outputs": [
    {
     "name": "stdout",
     "output_type": "stream",
     "text": [
      "Largest element is: 96\n"
     ]
    }
   ],
   "source": [
    "# Question 5\n",
    "list1 = [10, 89, 4, 45, 96] \n",
    "  \n",
    " \n",
    "list1.sort() \n",
    "  \n",
    " \n",
    "print(\"Largest element is:\", list1[-1]) "
   ]
  },
  {
   "cell_type": "code",
   "execution_count": 7,
   "metadata": {},
   "outputs": [
    {
     "name": "stdout",
     "output_type": "stream",
     "text": [
      "1\n",
      "1\n",
      "2\n",
      "3\n",
      "[1, 1, 2, 3]\n"
     ]
    }
   ],
   "source": [
    "# Question 6\n",
    "\n",
    "a = [1, 1, 2, 3, 5, 8, 13, 21, 34, 55, 89]\n",
    "\n",
    "for i in a:\n",
    "\n",
    "    if i < 5:\n",
    "\n",
    "        print(i)\n",
    "\n",
    "\n",
    "\n",
    "x=[i for i in a if i <5]\n",
    "print(x)"
   ]
  }
 ],
 "metadata": {
  "kernelspec": {
   "display_name": "Python 3",
   "language": "python",
   "name": "python3"
  },
  "language_info": {
   "codemirror_mode": {
    "name": "ipython",
    "version": 3
   },
   "file_extension": ".py",
   "mimetype": "text/x-python",
   "name": "python",
   "nbconvert_exporter": "python",
   "pygments_lexer": "ipython3",
   "version": "3.7.4"
  }
 },
 "nbformat": 4,
 "nbformat_minor": 2
}
